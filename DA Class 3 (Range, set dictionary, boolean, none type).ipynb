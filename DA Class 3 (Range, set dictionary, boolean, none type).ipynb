{
 "cells": [
  {
   "cell_type": "markdown",
   "id": "fb4df1fe",
   "metadata": {},
   "source": [
    "## Range \n",
    "\n",
    "    - takes 3 things -> start(optional), stop, step(optional)\n",
    "    - takes only integer values\n",
    "    "
   ]
  },
  {
   "cell_type": "code",
   "execution_count": 5,
   "id": "43198054",
   "metadata": {},
   "outputs": [
    {
     "name": "stdout",
     "output_type": "stream",
     "text": [
      "range(0, 5)\n",
      "<class 'range'>\n"
     ]
    }
   ],
   "source": [
    "range_val = range(5)\n",
    "\n",
    "print(range_val)\n",
    "print(type(range_val))"
   ]
  },
  {
   "cell_type": "code",
   "execution_count": 8,
   "id": "e77888b4",
   "metadata": {},
   "outputs": [
    {
     "data": {
      "text/plain": [
       "[0, 1, 2, 3, 4]"
      ]
     },
     "execution_count": 8,
     "metadata": {},
     "output_type": "execute_result"
    }
   ],
   "source": [
    "list(range_val)"
   ]
  },
  {
   "cell_type": "code",
   "execution_count": 14,
   "id": "6f159183",
   "metadata": {},
   "outputs": [
    {
     "name": "stdout",
     "output_type": "stream",
     "text": [
      "[10, 11, 12, 13, 14]\n",
      "[10, 12, 14]\n"
     ]
    }
   ],
   "source": [
    "range_val2 =(range(10,15))\n",
    "range_val3 =(range(10,15,2))\n",
    "print(list(range_val2))\n",
    "print(list(range_val3))\n"
   ]
  },
  {
   "cell_type": "code",
   "execution_count": 20,
   "id": "4c3e761c",
   "metadata": {},
   "outputs": [
    {
     "name": "stdout",
     "output_type": "stream",
     "text": [
      "[]\n",
      "[0, -1, -2, -3, -4]\n"
     ]
    }
   ],
   "source": [
    "range_val4 = range(-5)\n",
    "range_val5 = range(0,-5,-1)\n",
    "print(list(range_val4))\n",
    "print(list(range_val5))"
   ]
  },
  {
   "cell_type": "markdown",
   "id": "e266d3af",
   "metadata": {},
   "source": [
    "## Sets\n",
    "\n",
    "    - A set is a collection of unordered and unindexed unchangable\n",
    "    - cannot have a duplicate value\n",
    "    - indexing is not applicable\n",
    "    - values can be added and removed in set but a value in a set cannot be changed\n",
    "    - mutable\n",
    "    "
   ]
  },
  {
   "cell_type": "code",
   "execution_count": 21,
   "id": "d93393b8",
   "metadata": {},
   "outputs": [
    {
     "name": "stdout",
     "output_type": "stream",
     "text": [
      "{1, 2, 3, 4, 5}\n"
     ]
    }
   ],
   "source": [
    "set1 = {1,2,3,4,5}\n",
    "print(set1)"
   ]
  },
  {
   "cell_type": "code",
   "execution_count": 37,
   "id": "36fa61a5",
   "metadata": {},
   "outputs": [
    {
     "name": "stdout",
     "output_type": "stream",
     "text": [
      "{0.2, 1, 2, 3, 2.2, 7.3, 'Virat'}\n",
      "[1, 2, 3, 2.2, 0.2, 'Virat', 7.3]\n"
     ]
    }
   ],
   "source": [
    "## Order is changing\n",
    "\n",
    "set2 = {1,2,3,2.2,0.2,\"Virat\", 7.3}\n",
    "\n",
    "list1 = [1,2,3,2.2,0.2,\"Virat\", 7.3]\n",
    "\n",
    "print(set2)\n",
    "print(list1)"
   ]
  },
  {
   "cell_type": "markdown",
   "id": "7f47ab8b",
   "metadata": {},
   "source": [
    "## Boolean "
   ]
  },
  {
   "cell_type": "code",
   "execution_count": 27,
   "id": "75dcb4a7",
   "metadata": {},
   "outputs": [
    {
     "data": {
      "text/plain": [
       "False"
      ]
     },
     "execution_count": 27,
     "metadata": {},
     "output_type": "execute_result"
    }
   ],
   "source": [
    "1==2"
   ]
  },
  {
   "cell_type": "code",
   "execution_count": 28,
   "id": "df54ada2",
   "metadata": {},
   "outputs": [
    {
     "data": {
      "text/plain": [
       "True"
      ]
     },
     "execution_count": 28,
     "metadata": {},
     "output_type": "execute_result"
    }
   ],
   "source": [
    "False == 0"
   ]
  },
  {
   "cell_type": "code",
   "execution_count": 29,
   "id": "be67f764",
   "metadata": {},
   "outputs": [
    {
     "data": {
      "text/plain": [
       "True"
      ]
     },
     "execution_count": 29,
     "metadata": {},
     "output_type": "execute_result"
    }
   ],
   "source": [
    "True == 1"
   ]
  },
  {
   "cell_type": "code",
   "execution_count": 41,
   "id": "12b1b472",
   "metadata": {},
   "outputs": [
    {
     "name": "stdout",
     "output_type": "stream",
     "text": [
      "{False, 1, 2, 'Virat'}\n"
     ]
    }
   ],
   "source": [
    "set5 = {1,2, True, False, \"Virat\"}\n",
    "print(set5)"
   ]
  },
  {
   "cell_type": "code",
   "execution_count": 45,
   "id": "8ffcf472",
   "metadata": {},
   "outputs": [],
   "source": [
    "set6 = {1,2,3,4,5,6}\n",
    "\n",
    "#set6[1] = 3 cannot be changed\n",
    "\n",
    "#this is because set is unindexed"
   ]
  },
  {
   "cell_type": "code",
   "execution_count": 46,
   "id": "5b5475f4",
   "metadata": {},
   "outputs": [
    {
     "name": "stdout",
     "output_type": "stream",
     "text": [
      "{1, 2, 3, 4, 5}\n"
     ]
    }
   ],
   "source": [
    "set6.remove(6)\n",
    "print(set6)"
   ]
  },
  {
   "cell_type": "markdown",
   "id": "a2ca851a",
   "metadata": {},
   "source": [
    "## Frozen set \n",
    "\n",
    "    - Unordered\n",
    "    - Duplicates is not allowed\n",
    "    - Immutable\n",
    "   "
   ]
  },
  {
   "cell_type": "code",
   "execution_count": 49,
   "id": "1d488643",
   "metadata": {},
   "outputs": [
    {
     "name": "stdout",
     "output_type": "stream",
     "text": [
      "<class 'frozenset'>\n",
      "frozenset({1, 2, 3, 'KKR'})\n"
     ]
    }
   ],
   "source": [
    "f_set1 = frozenset((1,2,3,1.0,\"KKR\"))\n",
    "\n",
    "print(type(f_set1))\n",
    "print(f_set1)"
   ]
  },
  {
   "cell_type": "markdown",
   "id": "b16d3477",
   "metadata": {},
   "source": [
    "## Dictionary\n",
    "\n",
    "    -Dictionary store data values in 'Key:Value' pairs.\n",
    "    - ordered, changable and donot allow duplicates\n",
    "    - before pyhton 3.7 dictionaries were unordered\n",
    "    - mutable\n",
    "    "
   ]
  },
  {
   "cell_type": "code",
   "execution_count": 51,
   "id": "fd34a3c4",
   "metadata": {},
   "outputs": [
    {
     "name": "stdout",
     "output_type": "stream",
     "text": [
      "{'Virat': 55, 'Faf': 25, 'Green': 20}\n",
      "<class 'dict'>\n"
     ]
    }
   ],
   "source": [
    "dict_1 = {\"Virat\":55,\"Faf\":25,\"Green\":20}\n",
    "\n",
    "print(dict_1)\n",
    "print(type(dict_1))"
   ]
  },
  {
   "cell_type": "code",
   "execution_count": 54,
   "id": "f21c3015",
   "metadata": {},
   "outputs": [
    {
     "name": "stdout",
     "output_type": "stream",
     "text": [
      "{'Virat': 55, 'Faf': 25, 'Green': 20, 'DK': 35}\n"
     ]
    }
   ],
   "source": [
    "dict_1.update({\"DK\":35})\n",
    "print(dict_1)"
   ]
  },
  {
   "cell_type": "code",
   "execution_count": 64,
   "id": "53fff67c",
   "metadata": {},
   "outputs": [
    {
     "name": "stdout",
     "output_type": "stream",
     "text": [
      "dict_keys(['Virat', 'Faf', 'Green', 'DK'])\n",
      "100\n"
     ]
    }
   ],
   "source": [
    "print(dict_1.keys())\n",
    "\n",
    "dict_1.update({\"Virat\":100})\n",
    "print(dict_1[\"Virat\"])"
   ]
  },
  {
   "cell_type": "code",
   "execution_count": 67,
   "id": "cc071768",
   "metadata": {},
   "outputs": [
    {
     "name": "stdout",
     "output_type": "stream",
     "text": [
      "{'Virat': [20, 30, 40], 'Jadeja': [50, 30, 20]}\n"
     ]
    }
   ],
   "source": [
    "dict_2 = {\"Virat\":[20,30,40],\"Jadeja\":[50,30,20]}\n",
    "print(dict_2)"
   ]
  },
  {
   "cell_type": "code",
   "execution_count": 69,
   "id": "c3da8b58",
   "metadata": {},
   "outputs": [
    {
     "name": "stdout",
     "output_type": "stream",
     "text": [
      "{'Indian_Players': {'Virat': 20, 'Jadeja': 20}}\n"
     ]
    }
   ],
   "source": [
    "# dictionary as a value \n",
    "\n",
    "dict_3 = {\"Indian_Players\":{\"Virat\":20,\"Jadeja\":20}}\n",
    "print(dict_3)"
   ]
  },
  {
   "cell_type": "markdown",
   "id": "d6026d67",
   "metadata": {},
   "source": [
    "## Boolean"
   ]
  },
  {
   "cell_type": "code",
   "execution_count": 70,
   "id": "b3e6616b",
   "metadata": {},
   "outputs": [
    {
     "name": "stdout",
     "output_type": "stream",
     "text": [
      "False\n"
     ]
    }
   ],
   "source": [
    "print(bool(False))"
   ]
  },
  {
   "cell_type": "code",
   "execution_count": 71,
   "id": "0ab54d84",
   "metadata": {},
   "outputs": [
    {
     "name": "stdout",
     "output_type": "stream",
     "text": [
      "True\n"
     ]
    }
   ],
   "source": [
    "print(bool(True))"
   ]
  },
  {
   "cell_type": "code",
   "execution_count": 72,
   "id": "7d01fee4",
   "metadata": {},
   "outputs": [
    {
     "name": "stdout",
     "output_type": "stream",
     "text": [
      "True\n"
     ]
    }
   ],
   "source": [
    "print(bool(1))"
   ]
  },
  {
   "cell_type": "code",
   "execution_count": 73,
   "id": "71b140b2",
   "metadata": {},
   "outputs": [
    {
     "name": "stdout",
     "output_type": "stream",
     "text": [
      "False\n"
     ]
    }
   ],
   "source": [
    "print(bool(0))"
   ]
  },
  {
   "cell_type": "code",
   "execution_count": 74,
   "id": "0a14ebb6",
   "metadata": {},
   "outputs": [
    {
     "name": "stdout",
     "output_type": "stream",
     "text": [
      "False\n",
      "True\n"
     ]
    }
   ],
   "source": [
    "print(bool(0.0))\n",
    "print(bool(1.0))"
   ]
  },
  {
   "cell_type": "code",
   "execution_count": 76,
   "id": "f6eedf53",
   "metadata": {},
   "outputs": [
    {
     "name": "stdout",
     "output_type": "stream",
     "text": [
      "True\n",
      "True\n",
      "True\n"
     ]
    }
   ],
   "source": [
    "print(bool([1,2,3]))\n",
    "print(bool({1,2,3,4}))\n",
    "print(bool((1,2,3)))"
   ]
  },
  {
   "cell_type": "code",
   "execution_count": 78,
   "id": "3ee961df",
   "metadata": {},
   "outputs": [
    {
     "name": "stdout",
     "output_type": "stream",
     "text": [
      "False\n"
     ]
    }
   ],
   "source": [
    "print(bool(\"\"))"
   ]
  },
  {
   "cell_type": "markdown",
   "id": "1e394a21",
   "metadata": {},
   "source": [
    "## None"
   ]
  },
  {
   "cell_type": "code",
   "execution_count": 80,
   "id": "4f494d55",
   "metadata": {},
   "outputs": [
    {
     "name": "stdout",
     "output_type": "stream",
     "text": [
      "<class 'NoneType'>\n"
     ]
    }
   ],
   "source": [
    "a = None\n",
    "print(type(a))"
   ]
  },
  {
   "cell_type": "code",
   "execution_count": null,
   "id": "9a9236f8",
   "metadata": {},
   "outputs": [],
   "source": []
  }
 ],
 "metadata": {
  "kernelspec": {
   "display_name": "Python 3 (ipykernel)",
   "language": "python",
   "name": "python3"
  },
  "language_info": {
   "codemirror_mode": {
    "name": "ipython",
    "version": 3
   },
   "file_extension": ".py",
   "mimetype": "text/x-python",
   "name": "python",
   "nbconvert_exporter": "python",
   "pygments_lexer": "ipython3",
   "version": "3.9.16"
  }
 },
 "nbformat": 4,
 "nbformat_minor": 5
}
