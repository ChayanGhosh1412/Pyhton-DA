{
 "cells": [
  {
   "cell_type": "markdown",
   "id": "560b307e",
   "metadata": {},
   "source": [
    "## Break statement \n",
    "\n",
    "    - The break statement is used to stop the iteration and exit the loop when a certain condition is met."
   ]
  },
  {
   "cell_type": "code",
   "execution_count": 3,
   "id": "dc26b9bb",
   "metadata": {},
   "outputs": [
    {
     "name": "stdout",
     "output_type": "stream",
     "text": [
      "iteration:  0\n",
      "Total score:  12\n",
      "iteration:  1\n",
      "Total score:  46\n",
      "iteration:  2\n",
      "Total score:  100\n",
      "iteration:  3\n",
      "Total score:  126\n",
      "iteration:  4\n",
      "Total score:  202\n"
     ]
    }
   ],
   "source": [
    "#Break in loop\n",
    "\n",
    "team_score = [12,34,54,26,76,31]\n",
    "i = 0\n",
    "n = len(team_score)\n",
    "total_score = 0\n",
    "\n",
    "while i<n:\n",
    "    print(\"iteration: \",i)\n",
    "    total_score += team_score[i]\n",
    "    print(\"Total score: \",total_score)\n",
    "    if total_score>150:\n",
    "        break\n",
    "    i=i+1\n"
   ]
  },
  {
   "cell_type": "code",
   "execution_count": 8,
   "id": "f112d539",
   "metadata": {},
   "outputs": [
    {
     "name": "stdout",
     "output_type": "stream",
     "text": [
      "Current team: [12, 23, 54, 76, 45]\n",
      "\tScore : 12\n",
      "\t\tTotal Score--> 12\n",
      "\tScore : 23\n",
      "\t\tTotal Score--> 35\n",
      "\tScore : 54\n",
      "\t\tTotal Score--> 89\n",
      "\tScore : 76\n",
      "\t\tTotal Score--> 165\n",
      "Current team: [20, 7, 23, 3, 2]\n",
      "\tScore : 20\n",
      "\t\tTotal Score--> 20\n",
      "\tScore : 7\n",
      "\t\tTotal Score--> 27\n",
      "\tScore : 23\n",
      "\t\tTotal Score--> 50\n",
      "\tScore : 3\n",
      "\t\tTotal Score--> 53\n",
      "\tScore : 2\n",
      "\t\tTotal Score--> 55\n",
      "Current team: [1, 3, 5, 4, 3]\n",
      "\tScore : 1\n",
      "\t\tTotal Score--> 1\n",
      "\tScore : 3\n",
      "\t\tTotal Score--> 4\n",
      "\tScore : 5\n",
      "\t\tTotal Score--> 9\n",
      "\tScore : 4\n",
      "\t\tTotal Score--> 13\n",
      "\tScore : 3\n",
      "\t\tTotal Score--> 16\n",
      "Exit loop\n"
     ]
    }
   ],
   "source": [
    "team_scores = [[12,23,54,76,45],[20,7,23,3,2],[1,3,5,4,3]]\n",
    "\n",
    "for curr_team_score in team_scores:\n",
    "    total_score = 0\n",
    "    print(\"Current team:\",curr_team_score)\n",
    "    for scores in curr_team_score:\n",
    "        print(\"\\tScore :\",scores)\n",
    "        total_score += scores\n",
    "        print(\"\\t\\tTotal Score-->\", total_score)\n",
    "        if total_score >= 100:\n",
    "            break\n",
    "print(\"Exit loop\")\n"
   ]
  },
  {
   "cell_type": "markdown",
   "id": "5e8c00af",
   "metadata": {},
   "source": [
    "## Contiue Statement \n",
    "    \n",
    "    - The continue statement is used to stop the current iteration and jumps to the next itration in the loop\n",
    "    - It doesnot terminate the loop"
   ]
  },
  {
   "cell_type": "code",
   "execution_count": 11,
   "id": "a9896ec9",
   "metadata": {},
   "outputs": [
    {
     "name": "stdout",
     "output_type": "stream",
     "text": [
      "Final non negative sum:  26\n"
     ]
    }
   ],
   "source": [
    "l = [12,3,4,5,-1,2,-10]\n",
    "\n",
    "non_negative = 0\n",
    "\n",
    "for values in l:\n",
    "    if values<0:\n",
    "        continue\n",
    "    non_negative+=values\n",
    "\n",
    "print(\"Final non negative sum: \", non_negative)"
   ]
  },
  {
   "cell_type": "markdown",
   "id": "e1685a08",
   "metadata": {},
   "source": [
    "## Pass Statement\n",
    "\n",
    "    - Allows empty functions to stay in the code for future uses\n",
    "    - It lets the code to run without throwing any error"
   ]
  },
  {
   "cell_type": "code",
   "execution_count": 18,
   "id": "ab389478",
   "metadata": {},
   "outputs": [
    {
     "name": "stdout",
     "output_type": "stream",
     "text": [
      "[9.5, 6.5, 7.4, 8.2]\n",
      "[5.6, 7.8, 8.7, 9.2]\n"
     ]
    }
   ],
   "source": [
    "l = [[9.5,6.5, 7.4, 8.2], [5.6, 7.8, 8.7, 9.2]]\n",
    "\n",
    "for cgpa_list in l:\n",
    "    print(cgpa_list)\n",
    "    for cgpa in cgpa_list:\n",
    "        pass"
   ]
  },
  {
   "cell_type": "markdown",
   "id": "a49ceb55",
   "metadata": {},
   "source": [
    "#### Difference between pass and continiue:\n",
    "    - continue will skip the loop \n",
    "    - pass will not skip the loop but print everything, it is like a place holder"
   ]
  },
  {
   "cell_type": "code",
   "execution_count": 21,
   "id": "b4754972",
   "metadata": {},
   "outputs": [
    {
     "name": "stdout",
     "output_type": "stream",
     "text": [
      "Value:  10\n",
      "Value:  20\n"
     ]
    }
   ],
   "source": [
    "l = [10,20,30,40]\n",
    "\n",
    "for value in l:\n",
    "    if value>20:\n",
    "        continue\n",
    "    print(\"Value: \",value)"
   ]
  },
  {
   "cell_type": "code",
   "execution_count": 22,
   "id": "4b002670",
   "metadata": {},
   "outputs": [
    {
     "name": "stdout",
     "output_type": "stream",
     "text": [
      "Value:  10\n",
      "Value:  20\n",
      "Value:  30\n",
      "Value:  40\n"
     ]
    }
   ],
   "source": [
    "l = [10,20,30,40]\n",
    "\n",
    "for value in l:\n",
    "    if value>20:\n",
    "        pass\n",
    "    print(\"Value: \",value)"
   ]
  },
  {
   "cell_type": "markdown",
   "id": "b40b4fef",
   "metadata": {},
   "source": [
    "## Else in loops \n",
    "\n",
    "    - Else block checks whether there is break in loop ot  not\n",
    "    - if break is there in the loop then the else block will not be executed"
   ]
  },
  {
   "cell_type": "code",
   "execution_count": 27,
   "id": "48639f7e",
   "metadata": {},
   "outputs": [
    {
     "name": "stdout",
     "output_type": "stream",
     "text": [
      "curr_value:  10\n",
      "curr_value:  20\n",
      "curr_value:  30\n",
      "curr_value:  40\n",
      "curr_value:  45\n",
      "outside for loop, else statement not printed\n"
     ]
    }
   ],
   "source": [
    "l = [10,20,30,40,45,50]\n",
    "\n",
    "total_value = 0\n",
    "for value in l:\n",
    "    print(\"curr_value: \",value)\n",
    "    if value == 45:\n",
    "        break\n",
    "else:\n",
    "    print(\"In else block of for loop\")\n",
    "\n",
    "print(\"outside for loop, else statement not printed\")"
   ]
  },
  {
   "cell_type": "code",
   "execution_count": 29,
   "id": "09974a59",
   "metadata": {},
   "outputs": [
    {
     "name": "stdout",
     "output_type": "stream",
     "text": [
      "curr_value:  10\n",
      "curr_value:  20\n",
      "curr_value:  30\n",
      "curr_value:  40\n",
      "curr_value:  45\n",
      "curr_value:  50\n",
      "In else block of for loop\n",
      "outside for loop, else statement not printed\n"
     ]
    }
   ],
   "source": [
    "l = [10,20,30,40,45,50]\n",
    "\n",
    "total_value = 0\n",
    "for value in l:\n",
    "    print(\"curr_value: \",value)\n",
    "    if value == 60:\n",
    "        break\n",
    "else:\n",
    "    print(\"In else block of for loop\")\n",
    "\n",
    "print(\"outside for loop, else statement not printed\")\n",
    "\n",
    "## Else block printed because break is not executed"
   ]
  },
  {
   "cell_type": "code",
   "execution_count": 30,
   "id": "e0b38ad2",
   "metadata": {},
   "outputs": [
    {
     "name": "stdout",
     "output_type": "stream",
     "text": [
      "In else block outside inner forloop\n",
      "In else block outer for loop\n",
      "outside complete for loop\n"
     ]
    }
   ],
   "source": [
    "l = [[1,2,3,4,5],[6,7,8,9]]\n",
    "\n",
    "for curr_list in l:\n",
    "    for value in curr_list:\n",
    "        if value == 5:\n",
    "            break\n",
    "    else:\n",
    "        print(\"In else block outside inner forloop\")\n",
    "else:\n",
    "    print(\"In else block outer for loop\")\n",
    "\n",
    "print(\"outside complete for loop\")"
   ]
  }
 ],
 "metadata": {
  "kernelspec": {
   "display_name": "Python 3 (ipykernel)",
   "language": "python",
   "name": "python3"
  },
  "language_info": {
   "codemirror_mode": {
    "name": "ipython",
    "version": 3
   },
   "file_extension": ".py",
   "mimetype": "text/x-python",
   "name": "python",
   "nbconvert_exporter": "python",
   "pygments_lexer": "ipython3",
   "version": "3.11.4"
  }
 },
 "nbformat": 4,
 "nbformat_minor": 5
}
