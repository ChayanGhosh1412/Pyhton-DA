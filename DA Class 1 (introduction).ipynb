{
 "cells": [
  {
   "cell_type": "markdown",
   "id": "563b665c",
   "metadata": {},
   "source": [
    "Python -> intereter language\n",
    "        \n",
    "        -Reads line one by one         \n",
    "        -high level language        \n",
    "        -since code is read line by line and interpreted unlike c++ where the entire code is compiled once, pyhton is slow \n",
    "        -supports object oriented programming \n",
    "        -supports functional programming \n",
    "        -procedural programming\n",
    "            -set ou instructions that needs to be executed like take a variable c store its value, create another variable and then add.\n",
    "        \n",
    "        "
   ]
  },
  {
   "cell_type": "code",
   "execution_count": 1,
   "id": "32b28d58",
   "metadata": {},
   "outputs": [
    {
     "name": "stdout",
     "output_type": "stream",
     "text": [
      "hello CG_1412\n",
      "hello\n",
      "hi\n"
     ]
    }
   ],
   "source": [
    "#use case of end\n",
    "print(\"hello\", end =\" \") #keeps it in the same line\n",
    "print(\"CG_1412\")\n",
    "      \n",
    "print(\"hello\")\n",
    "print(\"hi\")"
   ]
  },
  {
   "cell_type": "code",
   "execution_count": 2,
   "id": "a0e15934",
   "metadata": {},
   "outputs": [
    {
     "name": "stdout",
     "output_type": "stream",
     "text": [
      "hellocggate\n",
      "\n",
      "\n",
      "hello  cg  gate\n",
      "\n",
      "\n",
      "hello---cg---gate\n",
      "\n",
      "\n",
      "hello\n",
      "cg\n",
      "gate\n"
     ]
    }
   ],
   "source": [
    "#use case of separator \n",
    "\n",
    "print(\"hello\",\"cg\",\"gate\", sep=\"\")#doesnot give any space\n",
    "print(\"\\n\")\n",
    "\n",
    "print(\"hello\",\"cg\",\"gate\", sep=\"  \") #2 space \n",
    "print(\"\\n\")\n",
    "\n",
    "print(\"hello\",\"cg\",\"gate\", sep=\"---\")\n",
    "print(\"\\n\")\n",
    "\n",
    "print(\"hello\",\"cg\",\"gate\", sep=\"\\n\")"
   ]
  },
  {
   "cell_type": "code",
   "execution_count": 4,
   "id": "1c90c611",
   "metadata": {},
   "outputs": [
    {
     "name": "stdout",
     "output_type": "stream",
     "text": [
      "welcome to rbr course---this is cg**hello\n"
     ]
    }
   ],
   "source": [
    "print(\"welcome to rbr course\", \"this is cg\", end=\"**\", sep=\"---\")\n",
    "print(\"hello\")"
   ]
  },
  {
   "cell_type": "markdown",
   "id": "bb8a678a",
   "metadata": {},
   "source": [
    "### Variables\n",
    "\n",
    "    -Python variables are containers that store values\n",
    "    -python is not statically typed like (int x, char str in C++)\n",
    "    -Variables cannot start with an nummber, but number can be in between"
   ]
  },
  {
   "cell_type": "code",
   "execution_count": 10,
   "id": "9ed6f839",
   "metadata": {},
   "outputs": [
    {
     "name": "stdout",
     "output_type": "stream",
     "text": [
      "2596138012880\n",
      "<class 'int'>\n"
     ]
    }
   ],
   "source": [
    "#displaying memory location of a variable\n",
    "v = 1000\n",
    "print(id(v))\n",
    "\n",
    "#type of value \n",
    "print(type(v))"
   ]
  },
  {
   "cell_type": "code",
   "execution_count": 11,
   "id": "61cd0b91",
   "metadata": {},
   "outputs": [],
   "source": [
    "#delete a variable \n",
    "del v"
   ]
  },
  {
   "cell_type": "code",
   "execution_count": null,
   "id": "e8eaa629",
   "metadata": {},
   "outputs": [],
   "source": []
  },
  {
   "cell_type": "code",
   "execution_count": null,
   "id": "554ad4f5",
   "metadata": {},
   "outputs": [],
   "source": []
  }
 ],
 "metadata": {
  "kernelspec": {
   "display_name": "Python 3 (ipykernel)",
   "language": "python",
   "name": "python3"
  },
  "language_info": {
   "codemirror_mode": {
    "name": "ipython",
    "version": 3
   },
   "file_extension": ".py",
   "mimetype": "text/x-python",
   "name": "python",
   "nbconvert_exporter": "python",
   "pygments_lexer": "ipython3",
   "version": "3.9.16"
  }
 },
 "nbformat": 4,
 "nbformat_minor": 5
}
