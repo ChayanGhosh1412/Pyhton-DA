{
 "cells": [
  {
   "cell_type": "code",
   "execution_count": 2,
   "id": "5d731a7e",
   "metadata": {},
   "outputs": [
    {
     "name": "stdout",
     "output_type": "stream",
     "text": [
      "abc\n",
      "1\n",
      "Chayan\n",
      "Ghosh\n"
     ]
    }
   ],
   "source": [
    "#python doesnot throw error even if semicolon us used\n",
    "print(\"abc\");\n",
    "print(1)\n",
    "\n",
    "print('Chayan'); print(\"Ghosh\") #semicolon working as a separator"
   ]
  },
  {
   "cell_type": "code",
   "execution_count": 3,
   "id": "3d2cd770",
   "metadata": {},
   "outputs": [
    {
     "name": "stdout",
     "output_type": "stream",
     "text": [
      "100\n"
     ]
    }
   ],
   "source": [
    "_ = 100\n",
    "\n",
    "print(_)"
   ]
  },
  {
   "cell_type": "code",
   "execution_count": 4,
   "id": "3372ed5a",
   "metadata": {},
   "outputs": [
    {
     "data": {
      "text/plain": [
       "['False',\n",
       " 'None',\n",
       " 'True',\n",
       " '__peg_parser__',\n",
       " 'and',\n",
       " 'as',\n",
       " 'assert',\n",
       " 'async',\n",
       " 'await',\n",
       " 'break',\n",
       " 'class',\n",
       " 'continue',\n",
       " 'def',\n",
       " 'del',\n",
       " 'elif',\n",
       " 'else',\n",
       " 'except',\n",
       " 'finally',\n",
       " 'for',\n",
       " 'from',\n",
       " 'global',\n",
       " 'if',\n",
       " 'import',\n",
       " 'in',\n",
       " 'is',\n",
       " 'lambda',\n",
       " 'nonlocal',\n",
       " 'not',\n",
       " 'or',\n",
       " 'pass',\n",
       " 'raise',\n",
       " 'return',\n",
       " 'try',\n",
       " 'while',\n",
       " 'with',\n",
       " 'yield']"
      ]
     },
     "execution_count": 4,
     "metadata": {},
     "output_type": "execute_result"
    }
   ],
   "source": [
    "#there are 35 keywords in python\n",
    "\n",
    "import keyword\n",
    "keyword.kwlist"
   ]
  },
  {
   "cell_type": "markdown",
   "id": "ece0260a",
   "metadata": {},
   "source": [
    "    -try to avoid using capital letters while using variables\n",
    "   \n",
    "  ### -Datatypes in python\n",
    "        -Text\n",
    "        -numeric ->(int float)\n",
    "        -sequence types -> List, tuple, set\n",
    "        -mapping-> dictionary \n",
    "        -boolean -> true false\n",
    "        -None type-> null\n",
    "       \n"
   ]
  },
  {
   "cell_type": "code",
   "execution_count": 5,
   "id": "405024b9",
   "metadata": {},
   "outputs": [],
   "source": [
    "# strip function\n",
    "\n",
    "name_1 = \"Chayan    \"\n",
    "name_2 = \"   Chayan\"\n",
    "name_3 = \" Chayan  \""
   ]
  },
  {
   "cell_type": "code",
   "execution_count": 6,
   "id": "e13b9ad4",
   "metadata": {},
   "outputs": [
    {
     "data": {
      "text/plain": [
       "'Chayan'"
      ]
     },
     "execution_count": 6,
     "metadata": {},
     "output_type": "execute_result"
    }
   ],
   "source": [
    "name_1.rstrip()\n"
   ]
  },
  {
   "cell_type": "code",
   "execution_count": 7,
   "id": "16293af6",
   "metadata": {},
   "outputs": [
    {
     "data": {
      "text/plain": [
       "'Chayan'"
      ]
     },
     "execution_count": 7,
     "metadata": {},
     "output_type": "execute_result"
    }
   ],
   "source": [
    "name_2.lstrip()"
   ]
  },
  {
   "cell_type": "code",
   "execution_count": 8,
   "id": "6cf4ad2f",
   "metadata": {},
   "outputs": [
    {
     "data": {
      "text/plain": [
       "'Chayan'"
      ]
     },
     "execution_count": 8,
     "metadata": {},
     "output_type": "execute_result"
    }
   ],
   "source": [
    "name_3.strip()"
   ]
  },
  {
   "cell_type": "markdown",
   "id": "ca0138ba",
   "metadata": {},
   "source": [
    "### Numerics and datatypes "
   ]
  },
  {
   "cell_type": "code",
   "execution_count": 11,
   "id": "edb50e3f",
   "metadata": {},
   "outputs": [
    {
     "name": "stdout",
     "output_type": "stream",
     "text": [
      "2.0\n",
      "2\n",
      "6.666666666666667\n",
      "6\n"
     ]
    }
   ],
   "source": [
    "x = 20\n",
    "y = 10\n",
    "z = 3\n",
    "print(x/y) ## float division\n",
    "print(x//y)## integer division\n",
    "\n",
    "print(x/z) \n",
    "print(x//z)# gives floor of the division"
   ]
  },
  {
   "cell_type": "code",
   "execution_count": 15,
   "id": "0551c3cd",
   "metadata": {},
   "outputs": [
    {
     "name": "stdout",
     "output_type": "stream",
     "text": [
      "0.1999999999999993\n",
      "0.1999999999999993\n"
     ]
    }
   ],
   "source": [
    "#python represents numbers in binary format so the closest number to 0.2 is taken\n",
    "\n",
    "print(12.2-12)\n",
    "print(12.2-12.0)"
   ]
  },
  {
   "cell_type": "code",
   "execution_count": 16,
   "id": "2899513f",
   "metadata": {},
   "outputs": [
    {
     "name": "stdout",
     "output_type": "stream",
     "text": [
      "12\n"
     ]
    }
   ],
   "source": [
    "x = 12.5\n",
    "x = int(x)\n",
    "print(x)"
   ]
  },
  {
   "cell_type": "code",
   "execution_count": 18,
   "id": "3e3171a7",
   "metadata": {},
   "outputs": [
    {
     "name": "stdout",
     "output_type": "stream",
     "text": [
      "12.46\n"
     ]
    }
   ],
   "source": [
    "#round till 2 place\n",
    "a = 12.4567\n",
    "print(round(a,2))"
   ]
  },
  {
   "cell_type": "code",
   "execution_count": 22,
   "id": "a2586097",
   "metadata": {},
   "outputs": [
    {
     "name": "stdout",
     "output_type": "stream",
     "text": [
      "(12+0j)\n",
      "(12+2j)\n",
      "(24+5j)\n"
     ]
    }
   ],
   "source": [
    "#complex number \n",
    "\n",
    "print(complex(12))\n",
    "\n",
    "print(complex(12,2))\n",
    "\n",
    "x = complex(12,2)\n",
    "y = complex(12,3)\n",
    "\n",
    "print(x+y)"
   ]
  },
  {
   "cell_type": "markdown",
   "id": "9dd1f8e7",
   "metadata": {},
   "source": [
    "### List \n",
    "    \n",
    "    - Lists are mutable \n",
    "    - can hold multiple tyes of datatype\n",
    "    - can have duplicates"
   ]
  },
  {
   "cell_type": "code",
   "execution_count": 25,
   "id": "3822edb1",
   "metadata": {},
   "outputs": [
    {
     "name": "stdout",
     "output_type": "stream",
     "text": [
      "[1, 2, 3, 'Chayan', 'Ghosh', 12.0]\n"
     ]
    }
   ],
   "source": [
    "arr_list = [1,2,3,\"Chayan\",\"Ghosh\",12.]\n",
    "print(arr_list)"
   ]
  },
  {
   "cell_type": "code",
   "execution_count": 28,
   "id": "1d0f8f71",
   "metadata": {},
   "outputs": [
    {
     "name": "stdout",
     "output_type": "stream",
     "text": [
      "Chayan\n",
      "Chayan\n"
     ]
    }
   ],
   "source": [
    "print(arr_list[-3])\n",
    "print(arr_list[3])"
   ]
  },
  {
   "cell_type": "markdown",
   "id": "8dc771b9",
   "metadata": {},
   "source": [
    "### Tuple \n",
    "\n",
    "    - Immutable\n",
    "    - Can have duplicate value"
   ]
  },
  {
   "cell_type": "code",
   "execution_count": 29,
   "id": "33002b22",
   "metadata": {},
   "outputs": [],
   "source": [
    "new_tup = (2,5,10,\"Chayan\",102.2)"
   ]
  },
  {
   "cell_type": "code",
   "execution_count": 30,
   "id": "0e9c87a0",
   "metadata": {},
   "outputs": [
    {
     "name": "stdout",
     "output_type": "stream",
     "text": [
      "(2, 5, 10, 'Chayan', 102.2)\n",
      "10\n"
     ]
    }
   ],
   "source": [
    "print(new_tup)\n",
    "print(new_tup[2])"
   ]
  },
  {
   "cell_type": "code",
   "execution_count": 33,
   "id": "89552a80",
   "metadata": {},
   "outputs": [],
   "source": [
    "#values cannnot be changed \n",
    "\n",
    "#new_tup[2]=20"
   ]
  },
  {
   "cell_type": "code",
   "execution_count": 35,
   "id": "c0f2ce0f",
   "metadata": {},
   "outputs": [
    {
     "name": "stdout",
     "output_type": "stream",
     "text": [
      "(1, 2, 3)\n"
     ]
    }
   ],
   "source": [
    "new_list = [1,2,3]\n",
    "new_list = tuple(new_list)\n",
    "print(new_list)"
   ]
  },
  {
   "cell_type": "code",
   "execution_count": null,
   "id": "b29f45ce",
   "metadata": {},
   "outputs": [],
   "source": []
  }
 ],
 "metadata": {
  "kernelspec": {
   "display_name": "Python 3 (ipykernel)",
   "language": "python",
   "name": "python3"
  },
  "language_info": {
   "codemirror_mode": {
    "name": "ipython",
    "version": 3
   },
   "file_extension": ".py",
   "mimetype": "text/x-python",
   "name": "python",
   "nbconvert_exporter": "python",
   "pygments_lexer": "ipython3",
   "version": "3.11.4"
  }
 },
 "nbformat": 4,
 "nbformat_minor": 5
}
