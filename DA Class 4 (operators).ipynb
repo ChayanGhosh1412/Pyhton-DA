{
 "cells": [
  {
   "cell_type": "markdown",
   "id": "24e511e5",
   "metadata": {},
   "source": [
    "## Type Casting\n",
    "\n",
    "    - Convert the python variable datatype to a certain datatype\n",
    "    - Implicit type conversion \n",
    "        -Converts the data type of one variable to another by python automatically and user is not involved here\n",
    "    - Explicit Type Conversion\n",
    "        -Python needs user involvement to convert the datatype of a variable into the desired variable that the user wants\n",
    "        \n",
    "    - int() -> take float or string as argument and return int \n",
    "    - float() -> take int or string as argument and return float\n",
    "    - string() -> take float or int as argument and return string "
   ]
  },
  {
   "cell_type": "code",
   "execution_count": 2,
   "id": "f01be59d",
   "metadata": {},
   "outputs": [
    {
     "name": "stdout",
     "output_type": "stream",
     "text": [
      "<class 'int'>\n",
      "<class 'float'>\n",
      "10.7\n",
      "<class 'float'>\n"
     ]
    }
   ],
   "source": [
    "#implict type casting\n",
    "\n",
    "a = 7\n",
    "print(type(a))\n",
    "b = 3.7 \n",
    "print(type(b))\n",
    "c = a+b\n",
    "print(c)\n",
    "print(type(c))"
   ]
  },
  {
   "cell_type": "code",
   "execution_count": 4,
   "id": "c48fe6c5",
   "metadata": {},
   "outputs": [
    {
     "name": "stdout",
     "output_type": "stream",
     "text": [
      "<class 'int'>\n",
      "<class 'float'>\n",
      "10\n",
      "<class 'int'>\n"
     ]
    }
   ],
   "source": [
    "a = 7\n",
    "b = 3.5\n",
    "c = int(a+b)\n",
    "\n",
    "print(type(a))\n",
    "print(type(b))\n",
    "print(c)\n",
    "print(type(c))"
   ]
  },
  {
   "cell_type": "code",
   "execution_count": 12,
   "id": "fb12bba5",
   "metadata": {},
   "outputs": [
    {
     "name": "stdout",
     "output_type": "stream",
     "text": [
      "8\n",
      "<class 'int'>\n",
      "10\n",
      "<class 'int'>\n"
     ]
    },
    {
     "data": {
      "text/plain": [
       "'\\nd = \"abc\"\\ni_4 = int(d)\\nprint(i_4)\\nprint(type(i_4))\\n\\n'"
      ]
     },
     "execution_count": 12,
     "metadata": {},
     "output_type": "execute_result"
    }
   ],
   "source": [
    "# int \n",
    "a = 8.5\n",
    "i_1 = int(a)\n",
    "print(i_1)\n",
    "print(type(i_1))\n",
    "'''\n",
    "b = \"1.5\"\n",
    "i_2 = int(b)\n",
    "print(i_2)\n",
    "print(type(i_2))'''\n",
    "\n",
    "c = \"10\"\n",
    "i_3 = int(c)\n",
    "print(i_3)\n",
    "print(type(i_3))\n",
    "\n",
    "'''\n",
    "d = \"abc\"\n",
    "i_4 = int(d)\n",
    "print(i_4)\n",
    "print(type(i_4))\n",
    "\n",
    "'''\n",
    "\n",
    "#only number must be inside the string to be converted to int float and string inside \"\" will not be considered and will throw erroe"
   ]
  },
  {
   "cell_type": "code",
   "execution_count": 16,
   "id": "2b270635",
   "metadata": {},
   "outputs": [
    {
     "name": "stdout",
     "output_type": "stream",
     "text": [
      "8.5\n",
      "<class 'float'>\n",
      "1.5\n",
      "<class 'float'>\n",
      "10.0\n",
      "<class 'float'>\n"
     ]
    },
    {
     "data": {
      "text/plain": [
       "'d = \"abc\"\\nf_4 = float(d)\\nprint(f_4)\\nprint(type(f_4))'"
      ]
     },
     "execution_count": 16,
     "metadata": {},
     "output_type": "execute_result"
    }
   ],
   "source": [
    "a = 8.5\n",
    "f_1 = float(a)\n",
    "print(f_1)\n",
    "print(type(f_1))\n",
    "\n",
    "b = \"1.5\"\n",
    "f_2 = float(b)\n",
    "print(f_2)\n",
    "print(type(f_2))\n",
    "\n",
    "c = \"10\"\n",
    "f_3 = float(c)\n",
    "print(f_3)\n",
    "print(type(f_3))\n",
    "\n",
    "'''d = \"abc\"\n",
    "f_4 = float(d)\n",
    "print(f_4)\n",
    "print(type(f_4))'''"
   ]
  },
  {
   "cell_type": "markdown",
   "id": "0ecfcd87",
   "metadata": {},
   "source": [
    "## Operators\n",
    "    \n",
    "###    - Symbol that performs specific operations b/w two operands    \n",
    "####        - Arithmetic operators \n",
    "            -> +, -, *, /, %, ** (exponent), // (floor division)             \n",
    "####        - Comparison operator \n",
    "            -> >, <, >=, <=, != (returns true or false)            \n",
    "####        - Assignment Operators\n",
    "            -> a=5, +=, -=, *=, /=, //=            \n",
    "####        - Logical Operator\n",
    "            -> and -> both true it return true \n",
    "            -> or -> if either true it will return true\n",
    "            -> not -> inverse         \n",
    "####        - Bitwise Operator\n",
    "            -> bitwise or ( | )\n",
    "            -> bitwise and ( & )\n",
    "            -> bitwise xor ( ^ )\n",
    "            -> negation ( ~ )\n",
    "            -> left shift ( << )\n",
    "            -> right shift ( >> )        \n",
    "####        - Membership Operator\n",
    "            -> The membership of a value in a python data structure \n",
    "            -> l=[1,2,3,4] \n",
    "                -> 3 in l  --> True \n",
    "                -> 8 not in l --> True \n",
    "                -> 8 in l --> False\n",
    "####        - Identity Operator\n",
    "            -> is: If the reference on both operands point to same object then it is true\n",
    "            -> is not: If the reference on both operands point to same object then it is false  "
   ]
  },
  {
   "cell_type": "code",
   "execution_count": 1,
   "id": "f22b1393",
   "metadata": {},
   "outputs": [
    {
     "name": "stdout",
     "output_type": "stream",
     "text": [
      "True\n",
      "True\n"
     ]
    }
   ],
   "source": [
    "print(0==0.0)\n",
    "print(1==1.0)\n"
   ]
  },
  {
   "cell_type": "code",
   "execution_count": 3,
   "id": "95360be0",
   "metadata": {},
   "outputs": [
    {
     "name": "stdout",
     "output_type": "stream",
     "text": [
      "True\n",
      "False\n",
      "True\n"
     ]
    }
   ],
   "source": [
    "# Logical operator\n",
    "x=5 \n",
    "y = 10\n",
    "\n",
    "print(x>4 and y<12)\n",
    "print(x>4 and y>12)\n",
    "\n",
    "print(x>4 or y>12)"
   ]
  },
  {
   "cell_type": "code",
   "execution_count": 13,
   "id": "cc21a9d8",
   "metadata": {},
   "outputs": [
    {
     "name": "stdout",
     "output_type": "stream",
     "text": [
      "8\n",
      "0\n"
     ]
    }
   ],
   "source": [
    "a = 12\n",
    "b = 5\n",
    "c = 8\n",
    "d = 0\n",
    "print(a and b and c)\n",
    "\n",
    "print(a and d and c and b)\n",
    "# checks all value true and then return the last values if there is a 0 then it is false and other values are consider as true "
   ]
  },
  {
   "cell_type": "code",
   "execution_count": 14,
   "id": "831f9d9f",
   "metadata": {},
   "outputs": [
    {
     "name": "stdout",
     "output_type": "stream",
     "text": [
      "12\n"
     ]
    }
   ],
   "source": [
    "a = 12\n",
    "b = 5\n",
    "c = 8\n",
    "d = 0\n",
    "\n",
    "print(a or b or c)"
   ]
  },
  {
   "cell_type": "code",
   "execution_count": 12,
   "id": "5e1635c3",
   "metadata": {},
   "outputs": [
    {
     "name": "stdout",
     "output_type": "stream",
     "text": [
      "False\n",
      "True\n"
     ]
    }
   ],
   "source": [
    "print(not(8))\n",
    "print(not(0))"
   ]
  }
 ],
 "metadata": {
  "kernelspec": {
   "display_name": "Python 3 (ipykernel)",
   "language": "python",
   "name": "python3"
  },
  "language_info": {
   "codemirror_mode": {
    "name": "ipython",
    "version": 3
   },
   "file_extension": ".py",
   "mimetype": "text/x-python",
   "name": "python",
   "nbconvert_exporter": "python",
   "pygments_lexer": "ipython3",
   "version": "3.11.4"
  }
 },
 "nbformat": 4,
 "nbformat_minor": 5
}
