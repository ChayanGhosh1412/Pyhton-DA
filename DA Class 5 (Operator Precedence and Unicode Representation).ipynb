{
 "cells": [
  {
   "cell_type": "markdown",
   "id": "4a2f1a8c",
   "metadata": {},
   "source": [
    "## Assignment Operator "
   ]
  },
  {
   "cell_type": "code",
   "execution_count": 1,
   "id": "a61dff19",
   "metadata": {},
   "outputs": [
    {
     "name": "stdout",
     "output_type": "stream",
     "text": [
      "0 21\n"
     ]
    }
   ],
   "source": [
    "a = 10 \n",
    "c = 20\n",
    "\n",
    "c += 1\n",
    "a = a-10\n",
    "\n",
    "print(a,c)"
   ]
  },
  {
   "cell_type": "code",
   "execution_count": 2,
   "id": "8362b26e",
   "metadata": {},
   "outputs": [
    {
     "name": "stdout",
     "output_type": "stream",
     "text": [
      "4\n"
     ]
    }
   ],
   "source": [
    "f = 14\n",
    "f %= 5\n",
    "\n",
    "print(f)"
   ]
  },
  {
   "cell_type": "markdown",
   "id": "b95ee770",
   "metadata": {},
   "source": [
    "## Bitwise Operators \n",
    "    \n",
    "    - OR, AND, NOT, XOR \n",
    "    "
   ]
  },
  {
   "cell_type": "code",
   "execution_count": 25,
   "id": "3ab084a6",
   "metadata": {},
   "outputs": [
    {
     "name": "stdout",
     "output_type": "stream",
     "text": [
      "4\n"
     ]
    }
   ],
   "source": [
    "# bitwise and\n",
    "print(14&21)"
   ]
  },
  {
   "cell_type": "code",
   "execution_count": 26,
   "id": "e1f02ed5",
   "metadata": {},
   "outputs": [
    {
     "name": "stdout",
     "output_type": "stream",
     "text": [
      "0b1110\n",
      "0b10101\n"
     ]
    }
   ],
   "source": [
    "print(bin(14))\n",
    "print(bin(21))"
   ]
  },
  {
   "cell_type": "code",
   "execution_count": 27,
   "id": "cec8a429",
   "metadata": {},
   "outputs": [
    {
     "name": "stdout",
     "output_type": "stream",
     "text": [
      "31\n"
     ]
    }
   ],
   "source": [
    "# bitwise or \n",
    "print(14|21)"
   ]
  },
  {
   "cell_type": "code",
   "execution_count": 30,
   "id": "edad4345",
   "metadata": {},
   "outputs": [
    {
     "name": "stdout",
     "output_type": "stream",
     "text": [
      "30\n",
      "0\n"
     ]
    }
   ],
   "source": [
    "# bitwise xor\n",
    "print(10^20)\n",
    "print(4^4)"
   ]
  },
  {
   "cell_type": "code",
   "execution_count": 34,
   "id": "0925386b",
   "metadata": {},
   "outputs": [
    {
     "name": "stdout",
     "output_type": "stream",
     "text": [
      "0b1101\n",
      "-14\n"
     ]
    }
   ],
   "source": [
    "# bitwise not\n",
    "print(bin(13)) # negation of 13 is showed as -14 because of the extra sign bit \n",
    "\n",
    "#negative number is stored in 2's compliment format\n",
    "print(~13)"
   ]
  },
  {
   "cell_type": "code",
   "execution_count": 35,
   "id": "424ed01f",
   "metadata": {},
   "outputs": [
    {
     "name": "stdout",
     "output_type": "stream",
     "text": [
      "13\n"
     ]
    }
   ],
   "source": [
    "print(~-14)"
   ]
  },
  {
   "cell_type": "code",
   "execution_count": 36,
   "id": "595cdb75",
   "metadata": {},
   "outputs": [
    {
     "name": "stdout",
     "output_type": "stream",
     "text": [
      "-1\n"
     ]
    }
   ],
   "source": [
    "print(~0)"
   ]
  },
  {
   "cell_type": "markdown",
   "id": "790749ec",
   "metadata": {},
   "source": [
    "## Shift Operator \n",
    "\n",
    "    Left Shift \n",
    "    - n << 1 -> multiply n by 2\n",
    "    - n << 2 -> multiply n by 4\n",
    "    - n << 2 -> multiply n by 2^3 \n",
    "    - n << k -> multiply n by 2^k\n",
    "    \n",
    "    Right Shift \n",
    "    - n >> 1 -> divide n by 2\n",
    "    - n >> 2 -> divide n by 4\n",
    "    - n >> 3 -> divide n by 8\n",
    "    - n >> k -> divide n by 2^k"
   ]
  },
  {
   "cell_type": "code",
   "execution_count": 37,
   "id": "c6c57b42",
   "metadata": {},
   "outputs": [
    {
     "name": "stdout",
     "output_type": "stream",
     "text": [
      "24\n",
      "48\n",
      "96\n",
      "192\n"
     ]
    }
   ],
   "source": [
    "print(12<<1)\n",
    "print(12<<2)\n",
    "print(12<<3)\n",
    "print(12<<4)"
   ]
  },
  {
   "cell_type": "code",
   "execution_count": 29,
   "id": "4b4dd839",
   "metadata": {},
   "outputs": [
    {
     "name": "stdout",
     "output_type": "stream",
     "text": [
      "60\n",
      "30\n",
      "15\n",
      "7\n"
     ]
    }
   ],
   "source": [
    "print(120>>1)\n",
    "print(120>>2)\n",
    "print(120>>3)\n",
    "print(120>>4)"
   ]
  },
  {
   "cell_type": "code",
   "execution_count": 6,
   "id": "b0fa5b6b",
   "metadata": {},
   "outputs": [
    {
     "name": "stdout",
     "output_type": "stream",
     "text": [
      "-40\n",
      "-5\n"
     ]
    }
   ],
   "source": [
    "print(-10<<2)\n",
    "print(-10>>1)"
   ]
  },
  {
   "cell_type": "markdown",
   "id": "76f6f0e6",
   "metadata": {},
   "source": [
    "## Membership Operator "
   ]
  },
  {
   "cell_type": "code",
   "execution_count": 9,
   "id": "6811d79e",
   "metadata": {},
   "outputs": [
    {
     "name": "stdout",
     "output_type": "stream",
     "text": [
      "True\n",
      "True\n",
      "False\n"
     ]
    }
   ],
   "source": [
    "players = [\"Kohli\",\"Clarke\",\"Ponting\"]\n",
    "\n",
    "print(\"Kohli\" in players)\n",
    "print(\"Rohit\" not in players)\n",
    "print(\"Pujara\" in players)"
   ]
  },
  {
   "cell_type": "code",
   "execution_count": 16,
   "id": "fbe100bd",
   "metadata": {},
   "outputs": [],
   "source": [
    "k = set([1,2,3,4,5])"
   ]
  },
  {
   "cell_type": "code",
   "execution_count": 40,
   "id": "1d4419d1",
   "metadata": {},
   "outputs": [
    {
     "name": "stdout",
     "output_type": "stream",
     "text": [
      "False\n",
      "True\n",
      "True\n"
     ]
    }
   ],
   "source": [
    "print(\"2\" in k)\n",
    "print(2 in k)\n",
    "print(True in k)"
   ]
  },
  {
   "cell_type": "markdown",
   "id": "62440064",
   "metadata": {},
   "source": [
    "## Identity Operator\n",
    "\n",
    "    - is \n",
    "    - is not"
   ]
  },
  {
   "cell_type": "code",
   "execution_count": 41,
   "id": "2fab3e91",
   "metadata": {},
   "outputs": [
    {
     "name": "stdout",
     "output_type": "stream",
     "text": [
      "2843755579904\n",
      "2843755526336\n",
      "2843755579904\n"
     ]
    }
   ],
   "source": [
    "l1 = [1,2,3,4,5]\n",
    "l2 = [1,2,3,4,5]\n",
    "\n",
    "print(id(l1))\n",
    "print(id(l2))\n",
    "\n",
    "l3 = l1\n",
    "print(id(l3))"
   ]
  },
  {
   "cell_type": "code",
   "execution_count": 43,
   "id": "756395db",
   "metadata": {},
   "outputs": [
    {
     "name": "stdout",
     "output_type": "stream",
     "text": [
      "False\n",
      "True\n",
      "True\n"
     ]
    }
   ],
   "source": [
    "print(l2 is l1) # the list is same but l1 and l2 point do different object in the memory \n",
    "print(l1 is l3)\n",
    "print(l3 is l1)"
   ]
  },
  {
   "cell_type": "markdown",
   "id": "078cd94e",
   "metadata": {},
   "source": [
    "## Operator Precedance\n",
    "\n",
    "####    -Arithmetic operator \n",
    "        Priority order->\n",
    "            1. Parenthesis (), []\n",
    "            2. Exponents/order -> ** \n",
    "            3. Division\n",
    "            4. Multiplication\n",
    "            5. Addition\n",
    "            6. Substraction\n",
    "            \n",
    "#### Precidence associativity\n",
    "    1. Parenthesis -> Left to right \n",
    "    2. Exponents **-> Right to left\n",
    "    3. Positive/ negatice sign (2+-3) -> Right to left\n",
    "    4. Multiplication, division -> Left to right\n",
    "    5. Add, substract -> left to right \n",
    "    6. Shift operator -> left to right\n",
    "    7. bitwise and -> left to right \n",
    "    8. Bitwise xor -> left to right \n",
    "    9. Bitwise or -> left to right \n",
    "    10. Membership (is, not is) -> left to right \n",
    "    11. not operator(boolean not) -> right to left \n",
    "    12. Boolean and -> left to right\n",
    "    12. Boolean or -> left to right \n"
   ]
  },
  {
   "cell_type": "code",
   "execution_count": 45,
   "id": "391ed5c9",
   "metadata": {},
   "outputs": [
    {
     "data": {
      "text/plain": [
       "37.0"
      ]
     },
     "execution_count": 45,
     "metadata": {},
     "output_type": "execute_result"
    }
   ],
   "source": [
    "5+12*7/2-10"
   ]
  }
 ],
 "metadata": {
  "kernelspec": {
   "display_name": "Python 3 (ipykernel)",
   "language": "python",
   "name": "python3"
  },
  "language_info": {
   "codemirror_mode": {
    "name": "ipython",
    "version": 3
   },
   "file_extension": ".py",
   "mimetype": "text/x-python",
   "name": "python",
   "nbconvert_exporter": "python",
   "pygments_lexer": "ipython3",
   "version": "3.11.4"
  }
 },
 "nbformat": 4,
 "nbformat_minor": 5
}
