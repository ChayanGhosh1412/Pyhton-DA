{
 "cells": [
  {
   "cell_type": "markdown",
   "id": "5a570076",
   "metadata": {},
   "source": [
    "## Operator Precedence \n",
    "\n",
    "4^2<<3+48//24\n",
    "\n",
    "    1. //\n",
    "    2. +\n",
    "    3. <<\n",
    "    4. ^"
   ]
  },
  {
   "cell_type": "code",
   "execution_count": 7,
   "id": "be0d5bad",
   "metadata": {},
   "outputs": [
    {
     "data": {
      "text/plain": [
       "68"
      ]
     },
     "execution_count": 7,
     "metadata": {},
     "output_type": "execute_result"
    }
   ],
   "source": [
    "4^2<<3+48//24"
   ]
  },
  {
   "cell_type": "code",
   "execution_count": 12,
   "id": "0795a01b",
   "metadata": {},
   "outputs": [
    {
     "data": {
      "text/plain": [
       "-2"
      ]
     },
     "execution_count": 12,
     "metadata": {},
     "output_type": "execute_result"
    }
   ],
   "source": [
    "-5//2//2 ## left to right"
   ]
  },
  {
   "cell_type": "code",
   "execution_count": 15,
   "id": "81c1ee52",
   "metadata": {},
   "outputs": [
    {
     "data": {
      "text/plain": [
       "True"
      ]
     },
     "execution_count": 15,
     "metadata": {},
     "output_type": "execute_result"
    }
   ],
   "source": [
    "10>7==7<12 # this will execute like (10>7) and 7==7 and (7<12)"
   ]
  },
  {
   "cell_type": "code",
   "execution_count": 16,
   "id": "f9bc9604",
   "metadata": {},
   "outputs": [
    {
     "data": {
      "text/plain": [
       "False"
      ]
     },
     "execution_count": 16,
     "metadata": {},
     "output_type": "execute_result"
    }
   ],
   "source": [
    "10>7==8<12 # (10>7) and 7==8 and (7<12) this returns false"
   ]
  },
  {
   "cell_type": "code",
   "execution_count": 17,
   "id": "0f385606",
   "metadata": {},
   "outputs": [
    {
     "data": {
      "text/plain": [
       "True"
      ]
     },
     "execution_count": 17,
     "metadata": {},
     "output_type": "execute_result"
    }
   ],
   "source": [
    "#If we use parenthesis \n",
    "\n",
    "(10>7)==(8<12)"
   ]
  },
  {
   "cell_type": "markdown",
   "id": "05363561",
   "metadata": {},
   "source": [
    "## Unicode Representation\n",
    "\n",
    "    - Pyhton uses unicode representations to represent strings \n",
    "    \n",
    "    - ASCII is used in C and Unicode in Python\n",
    "    \n",
    "    - ASCII is a subset of unicode\n",
    "    \n",
    "    - ASCII - 0-127     (what ever can be represented in ascii can also be done in unicode)\n",
    "    \n",
    "    - ASCII take only limited characters where as in unicode 150000 characters and multilanguage can also be supported like    hindi, chinese and many more, emojis can also be coded in unicode\n",
    "    \n",
    "    - Unciode is saved as hexadecimal value \n",
    "    \n",
    "    "
   ]
  },
  {
   "cell_type": "code",
   "execution_count": 29,
   "id": "67af6255",
   "metadata": {},
   "outputs": [
    {
     "name": "stdout",
     "output_type": "stream",
     "text": [
      "Character:  a |  Unicode Value: 97  |  Hecadecimal value 0x61\n",
      "Character:  b |  Unicode Value: 98  |  Hecadecimal value 0x62\n",
      "Character:  c |  Unicode Value: 99  |  Hecadecimal value 0x63\n",
      "Character:  d |  Unicode Value: 100  |  Hecadecimal value 0x64\n",
      "Character:  e |  Unicode Value: 101  |  Hecadecimal value 0x65\n",
      "Character:  f |  Unicode Value: 102  |  Hecadecimal value 0x66\n",
      "Character:  g |  Unicode Value: 103  |  Hecadecimal value 0x67\n",
      "Character:  h |  Unicode Value: 104  |  Hecadecimal value 0x68\n",
      "Character:  i |  Unicode Value: 105  |  Hecadecimal value 0x69\n",
      "Character:  j |  Unicode Value: 106  |  Hecadecimal value 0x6a\n",
      "Character:  k |  Unicode Value: 107  |  Hecadecimal value 0x6b\n",
      "Character:  l |  Unicode Value: 108  |  Hecadecimal value 0x6c\n",
      "Character:  m |  Unicode Value: 109  |  Hecadecimal value 0x6d\n",
      "Character:  n |  Unicode Value: 110  |  Hecadecimal value 0x6e\n",
      "Character:  o |  Unicode Value: 111  |  Hecadecimal value 0x6f\n",
      "Character:  p |  Unicode Value: 112  |  Hecadecimal value 0x70\n",
      "Character:  q |  Unicode Value: 113  |  Hecadecimal value 0x71\n",
      "Character:  r |  Unicode Value: 114  |  Hecadecimal value 0x72\n",
      "Character:  s |  Unicode Value: 115  |  Hecadecimal value 0x73\n",
      "Character:  t |  Unicode Value: 116  |  Hecadecimal value 0x74\n",
      "Character:  u |  Unicode Value: 117  |  Hecadecimal value 0x75\n",
      "Character:  v |  Unicode Value: 118  |  Hecadecimal value 0x76\n",
      "Character:  w |  Unicode Value: 119  |  Hecadecimal value 0x77\n",
      "Character:  x |  Unicode Value: 120  |  Hecadecimal value 0x78\n",
      "Character:  y |  Unicode Value: 121  |  Hecadecimal value 0x79\n",
      "Character:  z |  Unicode Value: 122  |  Hecadecimal value 0x7a\n"
     ]
    }
   ],
   "source": [
    "alphabet_string = \"abcdefghijklmnopqrstuvwxyz\"\n",
    "\n",
    "for c in alphabet_string:\n",
    "    print(\"Character: \",c,end=\" | \")\n",
    "    print(\" Unicode Value:\",ord(c),end=\"  | \")\n",
    "    print(\" Hecadecimal value\", hex(ord(c)))"
   ]
  },
  {
   "cell_type": "code",
   "execution_count": 22,
   "id": "e01a1d10",
   "metadata": {},
   "outputs": [
    {
     "name": "stdout",
     "output_type": "stream",
     "text": [
      "65\n"
     ]
    }
   ],
   "source": [
    "print(ord(\"A\"))"
   ]
  },
  {
   "cell_type": "code",
   "execution_count": 27,
   "id": "15d5acdf",
   "metadata": {},
   "outputs": [
    {
     "name": "stdout",
     "output_type": "stream",
     "text": [
      "0x41\n"
     ]
    }
   ],
   "source": [
    "print(hex(ord(\"A\")))"
   ]
  },
  {
   "cell_type": "markdown",
   "id": "50c41826",
   "metadata": {},
   "source": [
    "## Conditional Statement\n",
    "\n",
    "    - if, elif, else statements \n",
    "    - if <condition>:\n",
    "          code if statement satisfied\n",
    "      elif:\n",
    "          code if statement statisfies a particular condition\n",
    "      else:\n",
    "          code if no statement is satisfied"
   ]
  },
  {
   "cell_type": "code",
   "execution_count": null,
   "id": "5391a162",
   "metadata": {},
   "outputs": [],
   "source": []
  }
 ],
 "metadata": {
  "kernelspec": {
   "display_name": "Python 3 (ipykernel)",
   "language": "python",
   "name": "python3"
  },
  "language_info": {
   "codemirror_mode": {
    "name": "ipython",
    "version": 3
   },
   "file_extension": ".py",
   "mimetype": "text/x-python",
   "name": "python",
   "nbconvert_exporter": "python",
   "pygments_lexer": "ipython3",
   "version": "3.11.4"
  }
 },
 "nbformat": 4,
 "nbformat_minor": 5
}
