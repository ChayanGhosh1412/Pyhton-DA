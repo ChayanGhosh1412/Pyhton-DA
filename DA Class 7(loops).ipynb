{
 "cells": [
  {
   "cell_type": "markdown",
   "id": "63cc13e6",
   "metadata": {},
   "source": [
    "## Loops\n",
    "\n",
    "    - For loop -> where you iterate over a sequence\n",
    "    - While loop-> Repetedly iterating based on some condition\n",
    "    "
   ]
  },
  {
   "cell_type": "code",
   "execution_count": 63,
   "id": "5ac0bd3b",
   "metadata": {},
   "outputs": [
    {
     "name": "stdout",
     "output_type": "stream",
     "text": [
      "\n",
      "\n",
      "1 2 \n",
      "\n",
      "2 4 \n",
      "--------------------------\n",
      "\n",
      "\n",
      "\n",
      "1 2 \n",
      "\n",
      "2 4 "
     ]
    }
   ],
   "source": [
    "l = [[1,2],[2,4]]\n",
    "\n",
    "for i in range(0,len(l)):\n",
    "    print(\"\\n\")\n",
    "    for j in range(len(l[i])):\n",
    "        print(l[i][j], end = \" \")\n",
    "\n",
    "print(\"\\n--------------------------\\n\")\n",
    "\n",
    "for i in l:\n",
    "    print(\"\\n\")\n",
    "    for j in i:\n",
    "        print(j, end = \" \")\n",
    "        "
   ]
  },
  {
   "cell_type": "markdown",
   "id": "46753713",
   "metadata": {},
   "source": [
    "### enumerate"
   ]
  },
  {
   "cell_type": "code",
   "execution_count": 64,
   "id": "e29d8a13",
   "metadata": {},
   "outputs": [
    {
     "name": "stdout",
     "output_type": "stream",
     "text": [
      "iterator: 0\n",
      "Score: 20\n",
      "iterator: 1\n",
      "Score: 30\n",
      "iterator: 2\n",
      "Score: 40\n",
      "iterator: 3\n",
      "Score: 50\n"
     ]
    }
   ],
   "source": [
    "scores = [20,30,40,50]\n",
    "\n",
    "for i,s in enumerate(scores):\n",
    "    print(\"iterator:\",i)\n",
    "    print(\"Score:\",s)"
   ]
  },
  {
   "cell_type": "code",
   "execution_count": 65,
   "id": "afc6e18b",
   "metadata": {},
   "outputs": [
    {
     "name": "stdout",
     "output_type": "stream",
     "text": [
      "Sachin\n",
      "Richards\n",
      "\n",
      "\n",
      "Sachin\n",
      "Richards\n",
      "Bradman\n"
     ]
    }
   ],
   "source": [
    "player = [\"Bradman\",\"Richards\",\"Sachin\"]\n",
    "\n",
    "for i in range(len(player)-1, 0,-1):\n",
    "    print(player[i])\n",
    "print(\"\\n\")\n",
    "for i in range(len(player)-1, -1,-1):\n",
    "    print(player[i])\n",
    "    \n"
   ]
  },
  {
   "cell_type": "code",
   "execution_count": 66,
   "id": "5ac0e8b4",
   "metadata": {},
   "outputs": [
    {
     "name": "stdout",
     "output_type": "stream",
     "text": [
      "(0, 'Bradman')\n",
      "<class 'tuple'>\n",
      "(1, 'Richards')\n",
      "<class 'tuple'>\n",
      "(2, 'Sachin')\n",
      "<class 'tuple'>\n"
     ]
    }
   ],
   "source": [
    "for name in enumerate(player):\n",
    "    print(name)\n",
    "    print(type(name))"
   ]
  },
  {
   "cell_type": "markdown",
   "id": "4b320f51",
   "metadata": {},
   "source": [
    "### Zip function\n",
    "\n",
    "    - combines list"
   ]
  },
  {
   "cell_type": "code",
   "execution_count": 67,
   "id": "98bd8633",
   "metadata": {},
   "outputs": [
    {
     "name": "stdout",
     "output_type": "stream",
     "text": [
      "bjp 300\n",
      "congress 300\n",
      "dmk 40\n"
     ]
    }
   ],
   "source": [
    "election_parties = [\"bjp\",\"congress\",\"dmk\"]\n",
    "\n",
    "constituency = [300,300,40]\n",
    "\n",
    "for party,value in zip(election_parties, constituency):\n",
    "    print(party, value )"
   ]
  },
  {
   "cell_type": "code",
   "execution_count": 68,
   "id": "a113229a",
   "metadata": {},
   "outputs": [
    {
     "name": "stdout",
     "output_type": "stream",
     "text": [
      "a 10 200\n",
      "b 20 300\n",
      "c 30 400\n"
     ]
    }
   ],
   "source": [
    "l1 = [\"a\",\"b\",\"c\"]\n",
    "l2 = [10,20,30]\n",
    "l3 = [200,300,400]\n",
    "\n",
    "for i,j,k in zip(l1,l2,l3):\n",
    "    print(i,j,k)"
   ]
  },
  {
   "cell_type": "code",
   "execution_count": 69,
   "id": "a58ae78f",
   "metadata": {},
   "outputs": [
    {
     "name": "stdout",
     "output_type": "stream",
     "text": [
      "RBR\n",
      "JAY\n",
      "Venky\n"
     ]
    }
   ],
   "source": [
    "cl = [\"RBR\",\"JAY\",\"Venky\"]\n",
    "\n",
    "i = 0\n",
    "while i<len(cl):\n",
    "    print(cl[i])\n",
    "    i+=1"
   ]
  },
  {
   "cell_type": "code",
   "execution_count": null,
   "id": "54e85a0f",
   "metadata": {},
   "outputs": [],
   "source": []
  },
  {
   "cell_type": "code",
   "execution_count": null,
   "id": "6f64a765",
   "metadata": {},
   "outputs": [],
   "source": []
  }
 ],
 "metadata": {
  "kernelspec": {
   "display_name": "Python 3 (ipykernel)",
   "language": "python",
   "name": "python3"
  },
  "language_info": {
   "codemirror_mode": {
    "name": "ipython",
    "version": 3
   },
   "file_extension": ".py",
   "mimetype": "text/x-python",
   "name": "python",
   "nbconvert_exporter": "python",
   "pygments_lexer": "ipython3",
   "version": "3.9.16"
  }
 },
 "nbformat": 4,
 "nbformat_minor": 5
}
